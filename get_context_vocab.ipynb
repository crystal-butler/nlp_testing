{
 "cells": [
  {
   "cell_type": "code",
   "execution_count": 1,
   "metadata": {
    "collapsed": true
   },
   "outputs": [],
   "source": [
    "import sys\n",
    "import os\n",
    "import re\n",
    "import timeit\n",
    "from timeit import default_timer as timer"
   ]
  },
  {
   "cell_type": "code",
   "execution_count": 3,
   "metadata": {},
   "outputs": [
    {
     "data": {
      "text/plain": [
       "'/home/jupyter/Notebooks/crystal/NLP/MiFace/Python/data'"
      ]
     },
     "execution_count": 3,
     "metadata": {},
     "output_type": "execute_result"
    }
   ],
   "source": [
    "os.chdir(\"/home/jupyter/Notebooks/crystal/NLP/MiFace/Python/data\")\n",
    "os.getcwd()"
   ]
  },
  {
   "cell_type": "code",
   "execution_count": 4,
   "metadata": {},
   "outputs": [
    {
     "name": "stdout",
     "output_type": "stream",
     "text": [
      "There are 2181 words in the vocabulary.\n",
      "\n",
      "It took 0.0011116019450128078 seconds to read into memory.\n",
      "abhor\n"
     ]
    }
   ],
   "source": [
    "start = timer()\n",
    "vocab = []\n",
    "vocab_file = '/home/jupyter/Notebooks/crystal/NLP/MiFace/Python/data/vocab_files/vocab_checked.txt'\n",
    "with open(vocab_file, 'r') as v:\n",
    "    vocab = v.read().splitlines()\n",
    "end = timer()\n",
    "run_time = end - start\n",
    "print(f'There are {len(vocab)} words in the vocabulary.\\n')\n",
    "print(f'It took {run_time} seconds to read into memory.')\n",
    "print(vocab[2])"
   ]
  },
  {
   "cell_type": "code",
   "execution_count": 26,
   "metadata": {},
   "outputs": [
    {
     "name": "stdout",
     "output_type": "stream",
     "text": [
      "Line count from within the loop is 23.\n",
      "\n",
      "Length of results is 23.\n",
      "\n",
      "It took 19.672761111985892 seconds to execute.\n"
     ]
    }
   ],
   "source": [
    "# See how long it takes to find a single vocabulary word in my context file.\n",
    "line_count = 0\n",
    "word = vocab[2]\n",
    "vocab_lines = []\n",
    "path = '/home/jupyter/Notebooks/crystal/NLP/MiFace/Python/data/all_dictionaries_synonyms_cleaned_sorted.txt'\n",
    "start = timer()\n",
    "with open(path, 'r', encoding='utf-8') as f:\n",
    "    while True:\n",
    "        line = f.readline()\n",
    "        if not line:\n",
    "            break\n",
    "        if word in line:\n",
    "            results.append(vocab_lines)\n",
    "            line_count += 1\n",
    "end = timer()\n",
    "execution_time = end - start\n",
    "print(f'Line count from within the loop is {line_count}.\\n')\n",
    "print(f'Length of results is {len(vocab_lines)}.\\n')\n",
    "print(f'It took {execution_time} seconds to execute.')"
   ]
  },
  {
   "cell_type": "code",
   "execution_count": 28,
   "metadata": {},
   "outputs": [
    {
     "name": "stdout",
     "output_type": "stream",
     "text": [
      "Line count from within the loop is 23.\n",
      "\n",
      "Length of results is 23.\n",
      "\n",
      "It took 18.203057608101517 seconds to execute.\n"
     ]
    }
   ],
   "source": [
    "# See how long it takes to find a single vocabulary word in one gzipped WET file.\n",
    "# This time try reading in the whole file first.\n",
    "l = 0\n",
    "word = vocab[2]\n",
    "results = []\n",
    "path = '/home/jupyter/Notebooks/crystal/NLP/CC_Text_176/CC-MAIN-20200117123339-20200117151339-00251.warc.wet.gz'\n",
    "start = timer()\n",
    "with gzip.open(path, 'rt', encoding='utf-8') as cc:\n",
    "    cc_lines = cc.read().splitlines()\n",
    "    for cc_line in cc_lines:\n",
    "        if re.search(word, str(cc_line)):\n",
    "            results.append(cc_line)\n",
    "            l += 1\n",
    "end = timer()\n",
    "execution_time = end - start\n",
    "print(f'Line count from within the loop is {l}.\\n')\n",
    "print(f'Length of results is {len(results)}.\\n')\n",
    "print(f'It took {execution_time} seconds to execute.')"
   ]
  },
  {
   "cell_type": "code",
   "execution_count": 29,
   "metadata": {},
   "outputs": [
    {
     "name": "stdout",
     "output_type": "stream",
     "text": [
      "Line count from within the loop is 6904.\n",
      "\n",
      "Length of results is 6904.\n",
      "\n",
      "It took 3153.9066667100415 seconds to execute.\n"
     ]
    }
   ],
   "source": [
    "# See how long it takes to find a single vocabulary word in 176 gzipped WET files.\n",
    "l = 0\n",
    "word = vocab[2]\n",
    "results = []\n",
    "path = '/home/jupyter/Notebooks/crystal/NLP/CC_Text_176/'\n",
    "start = timer()\n",
    "for filename in sorted(os.listdir(path)):\n",
    "    f = os.path.join(path, filename)\n",
    "    with gzip.open(f, 'rt', encoding='utf-8') as cc:\n",
    "        for cc_line in cc:\n",
    "            if re.search(word, str(cc_line)):\n",
    "                results.append(cc_line)\n",
    "                l += 1\n",
    "end = timer()\n",
    "execution_time = end - start\n",
    "print(f'Line count from within the loop is {l}.\\n')\n",
    "print(f'Length of results is {len(results)}.\\n')\n",
    "print(f'It took {execution_time} seconds to execute.')"
   ]
  },
  {
   "cell_type": "code",
   "execution_count": null,
   "metadata": {
    "collapsed": true
   },
   "outputs": [],
   "source": [
    "# See how long it takes to find all vocabulary words in one decompressed WET file.\n",
    "# Try searching each line of the file for all vocabulary words.\n",
    "l = 0\n",
    "results = []\n",
    "path = '/home/jupyter/Notebooks/crystal/NLP/CC_Text_Decompressed/CC-MAIN-20200117123339-20200117151339-00251.warc.wet'\n",
    "start = timer()\n",
    "with open(path, 'rt', encoding='utf-8') as cc:\n",
    "    cc_lines = cc.read().splitlines()\n",
    "    for cc_line in cc_lines:\n",
    "        for word in vocab:\n",
    "            if re.search(word, str(cc_line)):\n",
    "                results.append(cc_line)\n",
    "                l += 1\n",
    "end = timer()\n",
    "execution_time = end - start\n",
    "print(f'Line count from within the loop is {l}.\\n')\n",
    "print(f'Length of results is {len(results)}.\\n')\n",
    "print(f'It took {execution_time} seconds to execute.')"
   ]
  },
  {
   "cell_type": "code",
   "execution_count": null,
   "metadata": {
    "collapsed": true
   },
   "outputs": [],
   "source": []
  },
  {
   "cell_type": "code",
   "execution_count": 77,
   "metadata": {},
   "outputs": [
    {
     "name": "stdout",
     "output_type": "stream",
     "text": [
      "Looking for word 1: abashed in file /home/jupyter/Notebooks/crystal/NLP/CC_Text/CC-MAIN-20200117123339-20200117151339-00000.warc.wet.gz, which is line 1\n",
      "Looking for word 1: abashed in file /home/jupyter/Notebooks/crystal/NLP/CC_Text/CC-MAIN-20200117123339-20200117151339-00001.warc.wet.gz, which is line 2\n",
      "Looking for word 1: abashed in file /home/jupyter/Notebooks/crystal/NLP/CC_Text/CC-MAIN-20200117123339-20200117151339-00002.warc.wet.gz, which is line 3\n",
      "Looking for word 1: abashed in file /home/jupyter/Notebooks/crystal/NLP/CC_Text/CC-MAIN-20200117123339-20200117151339-00003.warc.wet.gz, which is line 4\n",
      "Looking for word 1: abashed in file /home/jupyter/Notebooks/crystal/NLP/CC_Text/CC-MAIN-20200117123339-20200117151339-00004.warc.wet.gz, which is line 5\n",
      "Looking for word 1: abashed in file /home/jupyter/Notebooks/crystal/NLP/CC_Text/CC-MAIN-20200117123339-20200117151339-00005.warc.wet.gz, which is line 6\n",
      "Looking for word 1: abashed in file /home/jupyter/Notebooks/crystal/NLP/CC_Text/CC-MAIN-20200117123339-20200117151339-00006.warc.wet.gz, which is line 7\n",
      "Looking for word 1: abashed in file /home/jupyter/Notebooks/crystal/NLP/CC_Text/CC-MAIN-20200117123339-20200117151339-00007.warc.wet.gz, which is line 8\n",
      "Looking for word 1: abashed in file /home/jupyter/Notebooks/crystal/NLP/CC_Text/CC-MAIN-20200117123339-20200117151339-00008.warc.wet.gz, which is line 9\n",
      "Looking for word 1: abashed in file /home/jupyter/Notebooks/crystal/NLP/CC_Text/CC-MAIN-20200117123339-20200117151339-00009.warc.wet.gz, which is line 10\n",
      "Looking for word 1: abashed in file /home/jupyter/Notebooks/crystal/NLP/CC_Text/CC-MAIN-20200117123339-20200117151339-00010.warc.wet.gz, which is line 11\n",
      "Looking for word 1: abashed in file /home/jupyter/Notebooks/crystal/NLP/CC_Text/CC-MAIN-20200117123339-20200117151339-00011.warc.wet.gz, which is line 12\n",
      "Looking for word 1: abashed in file /home/jupyter/Notebooks/crystal/NLP/CC_Text/CC-MAIN-20200117123339-20200117151339-00012.warc.wet.gz, which is line 13\n",
      "Looking for word 1: abashed in file /home/jupyter/Notebooks/crystal/NLP/CC_Text/CC-MAIN-20200117123339-20200117151339-00013.warc.wet.gz, which is line 14\n",
      "Looking for word 1: abashed in file /home/jupyter/Notebooks/crystal/NLP/CC_Text/CC-MAIN-20200117123339-20200117151339-00014.warc.wet.gz, which is line 15\n",
      "Looking for word 1: abashed in file /home/jupyter/Notebooks/crystal/NLP/CC_Text/CC-MAIN-20200117123339-20200117151339-00015.warc.wet.gz, which is line 16\n",
      "Looking for word 1: abashed in file /home/jupyter/Notebooks/crystal/NLP/CC_Text/CC-MAIN-20200117123339-20200117151339-00016.warc.wet.gz, which is line 17\n",
      "Looking for word 1: abashed in file /home/jupyter/Notebooks/crystal/NLP/CC_Text/CC-MAIN-20200117123339-20200117151339-00017.warc.wet.gz, which is line 18\n",
      "Looking for word 1: abashed in file /home/jupyter/Notebooks/crystal/NLP/CC_Text/CC-MAIN-20200117123339-20200117151339-00018.warc.wet.gz, which is line 19\n",
      "Looking for word 1: abashed in file /home/jupyter/Notebooks/crystal/NLP/CC_Text/CC-MAIN-20200117123339-20200117151339-00019.warc.wet.gz, which is line 20\n",
      "Looking for word 1: abashed in file /home/jupyter/Notebooks/crystal/NLP/CC_Text/CC-MAIN-20200117123339-20200117151339-00020.warc.wet.gz, which is line 21\n",
      "Looking for word 1: abashed in file /home/jupyter/Notebooks/crystal/NLP/CC_Text/CC-MAIN-20200117123339-20200117151339-00021.warc.wet.gz, which is line 22\n",
      "Looking for word 1: abashed in file /home/jupyter/Notebooks/crystal/NLP/CC_Text/CC-MAIN-20200117123339-20200117151339-00022.warc.wet.gz, which is line 23\n",
      "Looking for word 1: abashed in file /home/jupyter/Notebooks/crystal/NLP/CC_Text/CC-MAIN-20200117123339-20200117151339-00023.warc.wet.gz, which is line 24\n",
      "Looking for word 1: abashed in file /home/jupyter/Notebooks/crystal/NLP/CC_Text/CC-MAIN-20200117123339-20200117151339-00024.warc.wet.gz, which is line 25\n",
      "Looking for word 1: abashed in file /home/jupyter/Notebooks/crystal/NLP/CC_Text/CC-MAIN-20200117123339-20200117151339-00025.warc.wet.gz, which is line 26\n",
      "Looking for word 1: abashed in file /home/jupyter/Notebooks/crystal/NLP/CC_Text/CC-MAIN-20200117123339-20200117151339-00026.warc.wet.gz, which is line 27\n",
      "Looking for word 1: abashed in file /home/jupyter/Notebooks/crystal/NLP/CC_Text/CC-MAIN-20200117123339-20200117151339-00027.warc.wet.gz, which is line 28\n",
      "Looking for word 1: abashed in file /home/jupyter/Notebooks/crystal/NLP/CC_Text/CC-MAIN-20200117123339-20200117151339-00028.warc.wet.gz, which is line 29\n",
      "Looking for word 1: abashed in file /home/jupyter/Notebooks/crystal/NLP/CC_Text/CC-MAIN-20200117123339-20200117151339-00029.warc.wet.gz, which is line 30\n",
      "Looking for word 1: abashed in file /home/jupyter/Notebooks/crystal/NLP/CC_Text/CC-MAIN-20200117123339-20200117151339-00030.warc.wet.gz, which is line 31\n",
      "Looking for word 1: abashed in file /home/jupyter/Notebooks/crystal/NLP/CC_Text/CC-MAIN-20200117123339-20200117151339-00031.warc.wet.gz, which is line 32\n",
      "Looking for word 1: abashed in file /home/jupyter/Notebooks/crystal/NLP/CC_Text/CC-MAIN-20200117123339-20200117151339-00032.warc.wet.gz, which is line 33\n",
      "Looking for word 1: abashed in file /home/jupyter/Notebooks/crystal/NLP/CC_Text/CC-MAIN-20200117123339-20200117151339-00033.warc.wet.gz, which is line 34\n",
      "Looking for word 1: abashed in file /home/jupyter/Notebooks/crystal/NLP/CC_Text/CC-MAIN-20200117123339-20200117151339-00034.warc.wet.gz, which is line 35\n",
      "Looking for word 1: abashed in file /home/jupyter/Notebooks/crystal/NLP/CC_Text/CC-MAIN-20200117123339-20200117151339-00035.warc.wet.gz, which is line 36\n",
      "Looking for word 1: abashed in file /home/jupyter/Notebooks/crystal/NLP/CC_Text/CC-MAIN-20200117123339-20200117151339-00036.warc.wet.gz, which is line 37\n",
      "Looking for word 1: abashed in file /home/jupyter/Notebooks/crystal/NLP/CC_Text/CC-MAIN-20200117123339-20200117151339-00037.warc.wet.gz, which is line 38\n",
      "Looking for word 1: abashed in file /home/jupyter/Notebooks/crystal/NLP/CC_Text/CC-MAIN-20200117123339-20200117151339-00038.warc.wet.gz, which is line 39\n",
      "Looking for word 1: abashed in file /home/jupyter/Notebooks/crystal/NLP/CC_Text/CC-MAIN-20200117123339-20200117151339-00039.warc.wet.gz, which is line 40\n",
      "Looking for word 1: abashed in file /home/jupyter/Notebooks/crystal/NLP/CC_Text/CC-MAIN-20200117123339-20200117151339-00040.warc.wet.gz, which is line 41\n",
      "Looking for word 1: abashed in file /home/jupyter/Notebooks/crystal/NLP/CC_Text/CC-MAIN-20200117123339-20200117151339-00041.warc.wet.gz, which is line 42\n",
      "Looking for word 1: abashed in file /home/jupyter/Notebooks/crystal/NLP/CC_Text/CC-MAIN-20200117123339-20200117151339-00042.warc.wet.gz, which is line 43\n",
      "Looking for word 1: abashed in file /home/jupyter/Notebooks/crystal/NLP/CC_Text/CC-MAIN-20200117123339-20200117151339-00043.warc.wet.gz, which is line 44\n",
      "Looking for word 1: abashed in file /home/jupyter/Notebooks/crystal/NLP/CC_Text/CC-MAIN-20200117123339-20200117151339-00044.warc.wet.gz, which is line 45\n",
      "Looking for word 1: abashed in file /home/jupyter/Notebooks/crystal/NLP/CC_Text/CC-MAIN-20200117123339-20200117151339-00045.warc.wet.gz, which is line 46\n",
      "Looking for word 1: abashed in file /home/jupyter/Notebooks/crystal/NLP/CC_Text/CC-MAIN-20200117123339-20200117151339-00046.warc.wet.gz, which is line 47\n",
      "Looking for word 1: abashed in file /home/jupyter/Notebooks/crystal/NLP/CC_Text/CC-MAIN-20200117123339-20200117151339-00047.warc.wet.gz, which is line 48\n",
      "Looking for word 1: abashed in file /home/jupyter/Notebooks/crystal/NLP/CC_Text/CC-MAIN-20200117123339-20200117151339-00048.warc.wet.gz, which is line 49\n",
      "Looking for word 1: abashed in file /home/jupyter/Notebooks/crystal/NLP/CC_Text/CC-MAIN-20200117123339-20200117151339-00049.warc.wet.gz, which is line 50\n",
      "Looking for word 1: abashed in file /home/jupyter/Notebooks/crystal/NLP/CC_Text/CC-MAIN-20200117123339-20200117151339-00050.warc.wet.gz, which is line 51\n",
      "Looking for word 1: abashed in file /home/jupyter/Notebooks/crystal/NLP/CC_Text/CC-MAIN-20200117123339-20200117151339-00051.warc.wet.gz, which is line 52\n",
      "Looking for word 1: abashed in file /home/jupyter/Notebooks/crystal/NLP/CC_Text/CC-MAIN-20200117123339-20200117151339-00052.warc.wet.gz, which is line 53\n",
      "Looking for word 1: abashed in file /home/jupyter/Notebooks/crystal/NLP/CC_Text/CC-MAIN-20200117123339-20200117151339-00053.warc.wet.gz, which is line 54\n"
     ]
    },
    {
     "name": "stdout",
     "output_type": "stream",
     "text": [
      "Looking for word 1: abashed in file /home/jupyter/Notebooks/crystal/NLP/CC_Text/CC-MAIN-20200117123339-20200117151339-00054.warc.wet.gz, which is line 55\n",
      "Looking for word 1: abashed in file /home/jupyter/Notebooks/crystal/NLP/CC_Text/CC-MAIN-20200117123339-20200117151339-00055.warc.wet.gz, which is line 56\n",
      "Looking for word 1: abashed in file /home/jupyter/Notebooks/crystal/NLP/CC_Text/CC-MAIN-20200117123339-20200117151339-00056.warc.wet.gz, which is line 57\n",
      "Looking for word 1: abashed in file /home/jupyter/Notebooks/crystal/NLP/CC_Text/CC-MAIN-20200117123339-20200117151339-00057.warc.wet.gz, which is line 58\n",
      "Looking for word 1: abashed in file /home/jupyter/Notebooks/crystal/NLP/CC_Text/CC-MAIN-20200117123339-20200117151339-00058.warc.wet.gz, which is line 59\n",
      "Looking for word 1: abashed in file /home/jupyter/Notebooks/crystal/NLP/CC_Text/CC-MAIN-20200117123339-20200117151339-00059.warc.wet.gz, which is line 60\n",
      "Looking for word 1: abashed in file /home/jupyter/Notebooks/crystal/NLP/CC_Text/CC-MAIN-20200117123339-20200117151339-00060.warc.wet.gz, which is line 61\n",
      "Looking for word 1: abashed in file /home/jupyter/Notebooks/crystal/NLP/CC_Text/CC-MAIN-20200117123339-20200117151339-00061.warc.wet.gz, which is line 62\n",
      "Looking for word 1: abashed in file /home/jupyter/Notebooks/crystal/NLP/CC_Text/CC-MAIN-20200117123339-20200117151339-00062.warc.wet.gz, which is line 63\n",
      "Looking for word 1: abashed in file /home/jupyter/Notebooks/crystal/NLP/CC_Text/CC-MAIN-20200117123339-20200117151339-00063.warc.wet.gz, which is line 64\n"
     ]
    },
    {
     "ename": "KeyboardInterrupt",
     "evalue": "",
     "output_type": "error",
     "traceback": [
      "\u001b[0;31m---------------------------------------------------------------------------\u001b[0m",
      "\u001b[0;31mKeyboardInterrupt\u001b[0m                         Traceback (most recent call last)",
      "\u001b[0;32m<ipython-input-77-47299333ff64>\u001b[0m in \u001b[0;36m<module>\u001b[0;34m\u001b[0m\n\u001b[1;32m     15\u001b[0m         \u001b[0mprint\u001b[0m\u001b[0;34m(\u001b[0m\u001b[0;34mf'Looking for word {n}: {word} in file {f}, which is line {l1}'\u001b[0m\u001b[0;34m)\u001b[0m\u001b[0;34m\u001b[0m\u001b[0;34m\u001b[0m\u001b[0m\n\u001b[1;32m     16\u001b[0m         \u001b[0;32mwith\u001b[0m \u001b[0mgzip\u001b[0m\u001b[0;34m.\u001b[0m\u001b[0mopen\u001b[0m\u001b[0;34m(\u001b[0m\u001b[0mf\u001b[0m\u001b[0;34m,\u001b[0m \u001b[0;34m'rt'\u001b[0m\u001b[0;34m,\u001b[0m \u001b[0mencoding\u001b[0m\u001b[0;34m=\u001b[0m\u001b[0;34m'utf-8'\u001b[0m\u001b[0;34m)\u001b[0m \u001b[0;32mas\u001b[0m \u001b[0mcc\u001b[0m\u001b[0;34m,\u001b[0m \u001b[0mopen\u001b[0m\u001b[0;34m(\u001b[0m\u001b[0mout\u001b[0m\u001b[0;34m,\u001b[0m \u001b[0;34m'a+'\u001b[0m\u001b[0;34m)\u001b[0m \u001b[0;32mas\u001b[0m \u001b[0mout\u001b[0m\u001b[0;34m:\u001b[0m\u001b[0;34m\u001b[0m\u001b[0;34m\u001b[0m\u001b[0m\n\u001b[0;32m---> 17\u001b[0;31m             \u001b[0;32mfor\u001b[0m \u001b[0mcc_line\u001b[0m \u001b[0;32min\u001b[0m \u001b[0mcc\u001b[0m\u001b[0;34m:\u001b[0m\u001b[0;34m\u001b[0m\u001b[0;34m\u001b[0m\u001b[0m\n\u001b[0m\u001b[1;32m     18\u001b[0m                 \u001b[0msentences\u001b[0m \u001b[0;34m=\u001b[0m \u001b[0mstr\u001b[0m\u001b[0;34m(\u001b[0m\u001b[0mcc_line\u001b[0m\u001b[0;34m)\u001b[0m\u001b[0;34m.\u001b[0m\u001b[0msplit\u001b[0m\u001b[0;34m(\u001b[0m\u001b[0;34m\".\"\u001b[0m\u001b[0;34m)\u001b[0m\u001b[0;34m\u001b[0m\u001b[0;34m\u001b[0m\u001b[0m\n\u001b[1;32m     19\u001b[0m                 \u001b[0;32mfor\u001b[0m \u001b[0ms\u001b[0m \u001b[0;32min\u001b[0m \u001b[0msentences\u001b[0m\u001b[0;34m:\u001b[0m\u001b[0;34m\u001b[0m\u001b[0;34m\u001b[0m\u001b[0m\n",
      "\u001b[0;31mKeyboardInterrupt\u001b[0m: "
     ]
    }
   ],
   "source": [
    "with open('/home/jupyter/Notebooks/crystal/NLP/Vocab_Files/vocab_checked.txt', 'r') as v:\n",
    "    n = 1\n",
    "    l1 = 1\n",
    "    l2 = 1\n",
    "    found = 0\n",
    "    vocab = v.read().splitlines()\n",
    "    word = vocab[1]\n",
    "#     print(vocab[1])\n",
    "#     for word in vocab:\n",
    "#         print(word)\n",
    "    path = '/home/jupyter/Notebooks/crystal/NLP/CC_Text/'\n",
    "    for filename in sorted(os.listdir(path)):\n",
    "        f = os.path.join(path, filename)\n",
    "        out = os.path.join('/home/jupyter/Notebooks/crystal/NLP/Vocab_Files/Vocab_Output', word + '_context.txt')\n",
    "        print(f'Looking for word {n}: {word} in file {f}, which is line {l1}')\n",
    "        with gzip.open(f, 'rt', encoding='utf-8') as cc, open(out, 'a+') as out:\n",
    "            for cc_line in cc:\n",
    "                sentences = str(cc_line).split(\".\")\n",
    "                for s in sentences:\n",
    "                    if re.search(r'\\b' + word + r'\\b', s):\n",
    "                        # print(f'{s}\\n')\n",
    "                        out.write(s + \"\\n\")\n",
    "                        found += 1\n",
    "        l1 += 1\n",
    "    path = '/home/jupyter/Notebooks/crystal/NLP/CC_Text_125'\n",
    "    for filename in sorted(os.listdir(path)):\n",
    "        f = os.path.join(path, filename)\n",
    "        out = os.path.join('/home/jupyter/Notebooks/crystal/NLP/Vocab_Files/Vocab_Output', word + '_context.txt')\n",
    "        print(f'Looking for word {n}: {word} in file {f}, which is line {l2}')\n",
    "        with gzip.open(f, 'rt', encoding='utf-8') as cc, open(out, 'a+') as out:\n",
    "            for cc_line in cc:\n",
    "                sentences = str(cc_line).split(\".\")\n",
    "                if re.search(r'\\b' + word + r'\\b', s):\n",
    "#                         print(s)\n",
    "                    out.write(s + \"\\n\")\n",
    "                    found += 1\n",
    "        l2 += 1\n",
    "    print(f'Found {found} instances of {word}')\n",
    "    n += 1"
   ]
  },
  {
   "cell_type": "code",
   "execution_count": null,
   "metadata": {
    "collapsed": true
   },
   "outputs": [],
   "source": []
  },
  {
   "cell_type": "code",
   "execution_count": null,
   "metadata": {
    "collapsed": true
   },
   "outputs": [],
   "source": []
  },
  {
   "cell_type": "code",
   "execution_count": null,
   "metadata": {
    "collapsed": true
   },
   "outputs": [],
   "source": []
  },
  {
   "cell_type": "code",
   "execution_count": null,
   "metadata": {
    "collapsed": true
   },
   "outputs": [],
   "source": []
  }
 ],
 "metadata": {
  "kernelspec": {
   "display_name": "crystal-venv-3.6",
   "language": "python",
   "name": "crystal-venv-3.6"
  },
  "language_info": {
   "codemirror_mode": {
    "name": "ipython",
    "version": 3
   },
   "file_extension": ".py",
   "mimetype": "text/x-python",
   "name": "python",
   "nbconvert_exporter": "python",
   "pygments_lexer": "ipython3",
   "version": "3.6.9"
  }
 },
 "nbformat": 4,
 "nbformat_minor": 2
}
