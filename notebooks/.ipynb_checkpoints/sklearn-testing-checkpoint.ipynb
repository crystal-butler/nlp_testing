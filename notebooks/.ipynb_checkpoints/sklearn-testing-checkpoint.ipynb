{
 "cells": [
  {
   "cell_type": "code",
   "execution_count": 11,
   "metadata": {},
   "outputs": [],
   "source": [
    "import numpy as np\n",
    "import csv\n",
    "from sklearn.linear_model import LinearRegression\n",
    "import os"
   ]
  },
  {
   "cell_type": "code",
   "execution_count": 5,
   "metadata": {},
   "outputs": [
    {
     "data": {
      "text/plain": [
       "'/Users/crystal.butler/Documents/Code_Projects/NLP/notebooks'"
      ]
     },
     "execution_count": 5,
     "metadata": {},
     "output_type": "execute_result"
    }
   ],
   "source": [
    "os.getcwd()"
   ]
  },
  {
   "cell_type": "code",
   "execution_count": 10,
   "metadata": {},
   "outputs": [
    {
     "name": "stdout",
     "output_type": "stream",
     "text": [
      "/Users/crystal.butler/Documents/Code_Projects/NLP/data\n"
     ]
    },
    {
     "data": {
      "text/plain": [
       "['FE_pairs_human_rater_scores_nodupes.xlsx',\n",
       " 'FE_pairs_human_rater_scores_nodupes_test.csv',\n",
       " 'FE_pairs_human_rater_scores_nodupes_train.csv',\n",
       " 'FE_pairs_human_rater_scores_nodupes.csv',\n",
       " 'FE_pairs_human_rater_scores.csv',\n",
       " 'embeddings_context_vocab',\n",
       " 'FE_vocab_study.txt',\n",
       " 'FE_pairs.csv',\n",
       " 'roberta_layer8_CC_ab_FEvocab.txt']"
      ]
     },
     "execution_count": 10,
     "metadata": {},
     "output_type": "execute_result"
    }
   ],
   "source": [
    "os.chdir('/Users/crystal.butler/Documents/Code_Projects/NLP/data')\n",
    "root_dir = os.getcwd()\n",
    "print(root_dir)\n",
    "os.listdir()"
   ]
  },
  {
   "cell_type": "code",
   "execution_count": 41,
   "metadata": {},
   "outputs": [
    {
     "name": "stdout",
     "output_type": "stream",
     "text": [
      "﻿disdainful excited 0.571428571\n",
      "alarmed distressed 7.733333333\n",
      "astounded surprised 9.142857143\n",
      "miffed fearful 1.833333333\n",
      "sorrowful pleased 0.214285714\n",
      "aghast mad 6.266666667\n",
      "distressed pissed 7.333333333\n",
      "frustrated frustrated 10\n",
      "stunned worried 4.466666667\n",
      "pissed fearful 4.066666667\n",
      "confused startled 6.214285714\n",
      "upset scared 5.533333333\n",
      "rejected offended 5.8\n",
      "distressed frustrated 7.2\n",
      "stunned anxious 4.066666667\n",
      "stupefied furious 3.2\n",
      "mad disappointed 6.133333333\n",
      "infuriated mournful 3.066666667\n",
      "bored confused 1.933333333\n",
      "neutral bored 5.571428571\n",
      "concerned sad 4.2\n",
      "resentful scornful 7.866666667\n",
      "furious joyful 0\n",
      "frightened excited 2.133333333\n",
      "dissatisfied distressed 6.25\n",
      "bored joyful 0.4\n",
      "perplexed dissatisfied 3.866666667\n",
      "disgusted repelled 9.083333333\n",
      "incensed revolted 7\n",
      "revolted irate 6.466666667\n",
      "terrified hostile 5.461538462\n",
      "amazed perplexed 6\n",
      "scared interested 0.785714286\n",
      "disappointed terrified 2.933333333\n",
      "astonished saddened 3.133333333\n",
      "mournful mad 3.333333333\n",
      "hostile revolted 6.714285714\n",
      "miffed concerned 3.5\n",
      "dismayed aghast 6.714285714\n",
      "excited incensed 2.533333333\n",
      "interested neutral 1.4\n",
      "happy delighted 9.533333333\n",
      "discouraged bothered 6\n",
      "uncertain startled 4.466666667\n",
      "sad dissatisfied 6.533333333\n",
      "delighted upset 0\n",
      "scornful depressed 4.866666667\n",
      "repulsed hurt 5.266666667\n",
      "pissed displeased 8\n",
      "mad displeased 8.4\n",
      "angry perplexed 2.8\n",
      "resentful bewildered 2.666666667\n",
      "concerned frightened 5.2\n",
      "amused irate 0.466666667\n",
      "repelled aghast 5.4\n",
      "suspicious amused 0.8\n",
      "surprised incensed 3.214285714\n",
      "pleased scared 0.533333333\n",
      "bothered cheerful 0.571428571\n",
      "outraged interested 1.266666667\n",
      "astounded disgusted 2.733333333\n",
      "startled resentful 1.8\n",
      "awed dejected 0.785714286\n",
      "offended surprised 1.769230769\n",
      "satisfied skeptical 0.866666667\n",
      "hostile rejected 4.466666667\n",
      "mournful doubtful 3.2\n",
      "cheerful satisfied 6.533333333\n",
      "joyful annoyed 0.333333333\n",
      "amazed infuriated 0.571428571\n",
      "astonished appalled 4.4\n",
      "hurt bored 1.2\n",
      "saddened uncertain 3.533333333\n",
      "amused disdainful 0.666666667\n",
      "saddened astounded 2.6\n",
      "appalled alarmed 6.692307692\n",
      "interested amused 6.857142857\n",
      "scornful neutral 0.384615385\n",
      "doubtful rejected 5.2\n",
      "depressed angry 3.666666667\n",
      "bewildered appalled 5.466666667\n",
      "scared resentful 2.6\n",
      "awed awed 10\n",
      "sad bewildered 3.357142857\n",
      "repelled disbelieving 4.642857143\n",
      "excited repulsed 1.214285714\n",
      "uncertain offended 2.266666667\n",
      "disappointed awed 0.461538462\n",
      "upset sad 8.615384615\n",
      "anxious apprehensive 8.928571429\n",
      "disbelieving concerned 4.733333333\n",
      "satisfied delighted 7.6\n"
     ]
    }
   ],
   "source": [
    "with open('FE_pairs_human_rater_scores_nodupes_train.csv', newline='') as train:\n",
    "    train_reader = csv.reader(train, delimiter=',')\n",
    "    for row in train_reader:\n",
    "        word_one, word_two, score = row[0], row[1], row[2]\n",
    "        print(word_one, word_two, score)"
   ]
  },
  {
   "cell_type": "code",
   "execution_count": null,
   "metadata": {},
   "outputs": [],
   "source": []
  },
  {
   "cell_type": "code",
   "execution_count": null,
   "metadata": {},
   "outputs": [],
   "source": []
  },
  {
   "cell_type": "code",
   "execution_count": null,
   "metadata": {},
   "outputs": [],
   "source": []
  }
 ],
 "metadata": {
  "kernelspec": {
   "display_name": "Python 3.7.4 64-bit ('venv': venv)",
   "language": "python",
   "name": "python37464bitvenvvenv9626b9a3d579443a8d6f078afdc288d8"
  },
  "language_info": {
   "codemirror_mode": {
    "name": "ipython",
    "version": 3
   },
   "file_extension": ".py",
   "mimetype": "text/x-python",
   "name": "python",
   "nbconvert_exporter": "python",
   "pygments_lexer": "ipython3",
   "version": "3.7.4"
  }
 },
 "nbformat": 4,
 "nbformat_minor": 4
}
